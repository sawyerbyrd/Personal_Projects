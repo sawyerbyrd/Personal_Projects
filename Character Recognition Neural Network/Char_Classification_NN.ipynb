{
 "cells": [
  {
   "cell_type": "markdown",
   "metadata": {},
   "source": [
    "# Hand Written Character Recognition Neural Network\n",
    "By: Sawyer Byrd"
   ]
  },
  {
   "cell_type": "code",
   "execution_count": 1,
   "metadata": {},
   "outputs": [],
   "source": [
    "import os\n",
    "import random\n",
    "import pandas as pd\n",
    "import numpy as np\n",
    "from PIL import Image"
   ]
  },
  {
   "cell_type": "markdown",
   "metadata": {},
   "source": [
    "#### Data Organization"
   ]
  },
  {
   "cell_type": "markdown",
   "metadata": {},
   "source": [
    "I format the data into a matrix for easier access, organization, and computation. \n",
    "\n",
    "Each row represents a flattened matrix of the pixel values in each image.\n",
    "\n",
    "There is also a \"Label\" column associated with each image that is it's actual class one-hot-encoded."
   ]
  },
  {
   "cell_type": "code",
   "execution_count": null,
   "metadata": {},
   "outputs": [],
   "source": [
    "data_dir = \"//home/sawbyrd/Personal_Projects/Character Recognition Neural Network/Character_Images\""
   ]
  },
  {
   "cell_type": "code",
   "execution_count": 3,
   "metadata": {},
   "outputs": [],
   "source": [
    "def convert_image(img):\n",
    "    \"\"\"\n",
    "    Resizes an image to (80,60) and then flattens it to an array\n",
    "    before appending 1 for the bias.\n",
    "    Args:\n",
    "        img: Image matrix (PIL Image object returned from Image.open())\n",
    "    Returns:\n",
    "        img: Formated image\n",
    "    \"\"\"\n",
    "    img_r = img.resize((80, 60))    # resizing\n",
    "    img = np.array(img_r).flatten() # flatten to array\n",
    "    return np.append(img, 1)    # appending 1 for bias"
   ]
  },
  {
   "cell_type": "code",
   "execution_count": 4,
   "metadata": {},
   "outputs": [],
   "source": [
    "def collect_data(data_dir):\n",
    "    \n",
    "    \"\"\"\n",
    "    Format of data_dir assumed to be \n",
    "    data_dir/class_name/image_name.\n",
    "    \n",
    "    Loops through data directory, \n",
    "    and then through each class directory.\n",
    "    \n",
    "    selects 5 random images from each class to use as testing data.\n",
    "    \n",
    "    and formats the image before adding it to the DataFrame.\n",
    "    Format is based on convert_image(img).\n",
    "    \n",
    "    Args:\n",
    "        data_dir: Directory containing the class directories\n",
    "    Returns:\n",
    "        train_df, test_df: Normalized and Shuffled Dataframes containing training and testing data\n",
    "    \"\"\"\n",
    "    \n",
    "    train_X = []\n",
    "    train_y = []\n",
    "    test_X = []\n",
    "    test_y = []\n",
    "    # Looping thorugh class directories\n",
    "    for class_name in os.listdir(data_dir):\n",
    "        class_path = os.path.join(data_dir, class_name)\n",
    "        class_name = int(class_name[-2:])   # collecting class label\n",
    "        \n",
    "        image_files = os.listdir(class_path)    # List of directory for each img in this class\n",
    "            \n",
    "        # Shuffling images to pick 5 random from each class for testing\n",
    "        random.shuffle(image_files)\n",
    "        \n",
    "        test_files = image_files[:5]\n",
    "        train_files = image_files[5:]\n",
    "            \n",
    "        # Test loop\n",
    "        for image_name in test_files:\n",
    "            img_path = os.path.join(class_path, image_name)\n",
    "                \n",
    "            # Collecting image data, converting to array, and storing it as X\n",
    "            img = Image.open(img_path).convert('L')\n",
    "            test_X.append(convert_image(img))   \n",
    "            \n",
    "            # one-hot-encoding labels\n",
    "            label = np.zeros(62)\n",
    "            label[class_name-1] = 1\n",
    "            label.reshape((1, 62))\n",
    "            test_y.append(label)\n",
    "                \n",
    "        # Train loop\n",
    "        for image_name in train_files:\n",
    "            img_path = os.path.join(class_path, image_name)\n",
    "            \n",
    "            # Collecting image data, converting to array, and storing it as X\n",
    "            img = Image.open(img_path).convert('L')\n",
    "            train_X.append(convert_image(img))   \n",
    "                \n",
    "            # one-hot-encoding labels\n",
    "            label = np.zeros(62)\n",
    "            label[class_name-1] = 1\n",
    "            label.reshape((1, 62))\n",
    "            train_y.append(label)\n",
    "        \n",
    "    # Normalizing data\n",
    "    train_X = (train_X - np.mean(train_X)) / np.std(train_X)\n",
    "    test_X = (test_X - np.mean(test_X)) / np.std(test_X)  \n",
    "    \n",
    "    # Converting to Dataframe for ease\n",
    "    train_df = pd.DataFrame(train_X)\n",
    "    train_df['Labels'] = train_y\n",
    "    test_df = pd.DataFrame(test_X)\n",
    "    test_df['Labels'] = test_y\n",
    "    \n",
    "    # Shuffling the data\n",
    "    train_df = train_df.sample(frac=1, random_state=42).reset_index(drop=True)\n",
    "    test_df = test_df.sample(frac=1, random_state=42).reset_index(drop=True)\n",
    "    \n",
    "    return train_df, test_df"
   ]
  },
  {
   "cell_type": "markdown",
   "metadata": {},
   "source": [
    "##### Creating Data Matricies"
   ]
  },
  {
   "cell_type": "code",
   "execution_count": 5,
   "metadata": {},
   "outputs": [
    {
     "name": "stdout",
     "output_type": "stream",
     "text": [
      "          0         1         2         3         4         5         6  \\\n",
      "0  0.260675  0.260675  0.260675  0.260675  0.260675  0.260675  0.260675   \n",
      "1  0.260675  0.260675  0.260675  0.260675  0.260675  0.260675  0.260675   \n",
      "2  0.260675  0.260675  0.260675  0.260675  0.260675  0.260675  0.260675   \n",
      "3  0.260675  0.260675  0.260675  0.260675  0.260675  0.260675  0.260675   \n",
      "4  0.260675  0.260675  0.260675  0.260675  0.260675  0.260675  0.260675   \n",
      "\n",
      "          7         8         9  ...      4792      4793      4794      4795  \\\n",
      "0  0.260675  0.260675  0.260675  ...  0.260675  0.260675  0.260675  0.260675   \n",
      "1  0.260675  0.260675  0.260675  ...  0.260675  0.260675  0.260675  0.260675   \n",
      "2  0.260675  0.260675  0.260675  ...  0.260675  0.260675  0.260675  0.260675   \n",
      "3  0.260675  0.260675  0.260675  ...  0.260675  0.260675  0.260675  0.260675   \n",
      "4  0.260675  0.260675  0.260675  ...  0.260675  0.260675  0.260675  0.260675   \n",
      "\n",
      "       4796      4797      4798      4799      4800  \\\n",
      "0  0.260675  0.260675  0.260675  0.260675 -4.190081   \n",
      "1  0.260675  0.260675  0.260675  0.260675 -4.190081   \n",
      "2  0.260675  0.260675  0.260675  0.260675 -4.190081   \n",
      "3  0.260675  0.260675  0.260675  0.260675 -4.190081   \n",
      "4  0.260675  0.260675  0.260675  0.260675 -4.190081   \n",
      "\n",
      "                                              Labels  \n",
      "0  [0.0, 0.0, 0.0, 0.0, 0.0, 0.0, 0.0, 0.0, 0.0, ...  \n",
      "1  [0.0, 0.0, 0.0, 0.0, 0.0, 0.0, 0.0, 0.0, 1.0, ...  \n",
      "2  [0.0, 0.0, 0.0, 0.0, 0.0, 0.0, 0.0, 0.0, 0.0, ...  \n",
      "3  [0.0, 0.0, 0.0, 0.0, 0.0, 0.0, 0.0, 0.0, 0.0, ...  \n",
      "4  [0.0, 0.0, 0.0, 0.0, 0.0, 0.0, 0.0, 0.0, 0.0, ...  \n",
      "\n",
      "[5 rows x 4802 columns]\n"
     ]
    }
   ],
   "source": [
    "train_df, test_df = collect_data(data_dir)\n",
    "print(train_df.head())    # Printing to check"
   ]
  },
  {
   "cell_type": "markdown",
   "metadata": {},
   "source": [
    "#### Defining Functions For NN Structure"
   ]
  },
  {
   "cell_type": "markdown",
   "metadata": {},
   "source": [
    "Sigmoid function and it's derivative"
   ]
  },
  {
   "cell_type": "code",
   "execution_count": 6,
   "metadata": {},
   "outputs": [],
   "source": [
    "def sigmoid(z):\n",
    "    \"\"\"\n",
    "    Computes sigmoid of the input. \n",
    "    Also clips the input to the range [-500, 500]\n",
    "    Args:\n",
    "        z: array type\n",
    "    Returns:\n",
    "        1 / 1 + np.exp(-z): sigmoid(z)\n",
    "    \"\"\"\n",
    "    z = np.clip(z, -500, 500)\n",
    "    return 1 / (1 + np.exp(-z))\n",
    "\n",
    "\n",
    "def sigmoid_derivative(x):\n",
    "    \"\"\"\n",
    "    Assumes sigmoid(x) has already been called\n",
    "    Args:\n",
    "        x: Output of sigmoid\n",
    "    Returns:\n",
    "        x * (1 - x): Derivative of the sigmoid\n",
    "    \"\"\"\n",
    "    return x * (1 - x)\n"
   ]
  },
  {
   "cell_type": "code",
   "execution_count": 7,
   "metadata": {},
   "outputs": [],
   "source": [
    "\n",
    "def create_weights(data_size, num_hid, num_out):\n",
    "    \"\"\"\n",
    "    creates the weight matricies based on the size of the data, \n",
    "    number of neurons in the hidden layer, and number of neurons in the output layer\n",
    "    Args:\n",
    "        data_size (int): Size of the data input\n",
    "        num_hid (int): number of hiden layer neurons\n",
    "        num_out (int): dimension of output layer\n",
    "    Returns:\n",
    "        w_1, w_2: two weight matricies (w_1 for hidden layer, w_2 for output layer)\n",
    "    \"\"\"\n",
    "    w_1 = np.random.randn(data_size, num_hid) * np.sqrt(1/num_hid)\n",
    "    w_2 = np.random.randn(num_hid, num_out) * np.sqrt(1/num_hid)\n",
    "    \n",
    "    return w_1, w_2"
   ]
  },
  {
   "cell_type": "code",
   "execution_count": 8,
   "metadata": {},
   "outputs": [],
   "source": [
    "# Activates a layer with dot<X, w> (Includes Bias)\n",
    "def activate_layer(X, w):\n",
    "    return sigmoid(np.dot(X, w))"
   ]
  },
  {
   "cell_type": "markdown",
   "metadata": {},
   "source": [
    "Foreward Pass Definition"
   ]
  },
  {
   "cell_type": "code",
   "execution_count": 9,
   "metadata": {},
   "outputs": [],
   "source": [
    "# A single foreward pass\n",
    "def foreward_pass(X, w_1, w_2):\n",
    "    a1 = activate_layer(X, w_1)\n",
    "    a2 = activate_layer(a1, w_2)\n",
    "    return a1, a2"
   ]
  },
  {
   "cell_type": "markdown",
   "metadata": {},
   "source": [
    "Back Propogation Definition"
   ]
  },
  {
   "cell_type": "code",
   "execution_count": 10,
   "metadata": {},
   "outputs": [],
   "source": [
    "def back_prop(X, y, w_1, w_2, lr): \n",
    "    \"\"\"\n",
    "    Performs a single foreward step and backpropagation step.\n",
    "    Args:\n",
    "        X (np.ndarray): Sample matrix with shape (1, data_size)\n",
    "        y (np.ndarray): one-hot encoded label matrix with size (1, num_out)\n",
    "        w_1 (np.ndarray): Hidden layer weight matrix with shape (data_size, num_hid)\n",
    "        w_2 (np.ndarray): Output layer weight matrix with shape (num_hid, num_out)\n",
    "        lr (float): learning rate\n",
    "\n",
    "    Returns:\n",
    "        w_1, w_2, loss: Updated weight matricies and loss\n",
    "    \"\"\"\n",
    "    a1, a2 = foreward_pass(X, w_1, w_2)\n",
    "    \n",
    "    d_z2 = a2 - y\n",
    "    d_w2 = np.dot(a1.T, d_z2)\n",
    "    d_z1 = np.dot(d_z2, w_2.T) * sigmoid_derivative(a1)\n",
    "    d_w1 = np.dot(X.T, d_z1)\n",
    "    \n",
    "    w_1 -= lr * d_w1\n",
    "    w_2 -= lr * d_w2\n",
    "    \n",
    "    loss = np.sum(d_z2 ** 2)\n",
    "    \n",
    "    return w_1, w_2, loss"
   ]
  },
  {
   "cell_type": "markdown",
   "metadata": {},
   "source": [
    "#### Training Structure Definition"
   ]
  },
  {
   "cell_type": "code",
   "execution_count": 11,
   "metadata": {},
   "outputs": [],
   "source": [
    "def train_model(train_df, num_epochs, lr):\n",
    "    \"\"\"\n",
    "    Trains the model\n",
    "    Args:\n",
    "        train_df (pandas.DataFrame): Dataframe containing training data. \n",
    "            Rows are samples, columns are features. last column is label\n",
    "        num_epochs (int): Number of epochs to run\n",
    "        lr (float): Learning rate\n",
    "    Returns:\n",
    "        w_1, w_2, loss_by_epoch: trained weight matricies and a matrix with average loss from each epoch\n",
    "    \"\"\"\n",
    "    w_1, w_2 = create_weights(train_df.shape[1] - 1, 100, 62)\n",
    "    \n",
    "    loss_by_epoch = []\n",
    "    \n",
    "    for epoch in range(num_epochs):\n",
    "        y_train = train_df['Labels']\n",
    "        x_train = train_df.drop(columns=['Labels'])  \n",
    "        loss = 0 \n",
    "        \n",
    "        for X, y in zip(x_train.values, y_train.values):\n",
    "            X = X.reshape((1, len(X)))\n",
    "            y = y.reshape((1, len(y)))\n",
    "            w_1, w_2, l = back_prop(X, y, w_1, w_2, lr)\n",
    "            loss += l\n",
    "        \n",
    "        if epoch % 5 == 0:   \n",
    "            print('Average loss on epoch', epoch, 'is:', loss / len(x_train), '\\n')\n",
    "        \n",
    "        loss_by_epoch.append(loss / len(x_train))\n",
    "            \n",
    "    return w_1, w_2, loss_by_epoch\n",
    "        "
   ]
  },
  {
   "cell_type": "markdown",
   "metadata": {},
   "source": [
    "#### Testing Structure Definition"
   ]
  },
  {
   "cell_type": "code",
   "execution_count": 12,
   "metadata": {},
   "outputs": [],
   "source": [
    "def test_model(test_df, w_1, w_2):\n",
    "    \"\"\"\n",
    "    Tests a trained model using test data and trained weights.\n",
    "    Args:\n",
    "        test_df (pandas.DataFrame): Test Dataframe. Rows are samples, columns are features. \n",
    "            last column is label (One-hot encoded)\n",
    "        w_1 (np.ndarray): Weight matrix for hidden layer\n",
    "        w_2 (np.ndarray): Weight matrix for output layer\n",
    "\n",
    "    Returns:\n",
    "        accuracy: The number of correct predictions divided by the total number of predictions\n",
    "    \"\"\"\n",
    "    y_test = test_df['Labels']\n",
    "    x_test = test_df.drop(columns=['Labels'])\n",
    "    \n",
    "    correct = 0\n",
    "    for X, y in zip(x_test.values, y_test.values):\n",
    "        _, a2 = foreward_pass(X, w_1, w_2)\n",
    "        \n",
    "        if np.argmax(a2) == np.argmax(y):\n",
    "            correct += 1\n",
    "    \n",
    "    return correct / len(y_test)"
   ]
  },
  {
   "cell_type": "markdown",
   "metadata": {},
   "source": [
    "#### Training and Testing "
   ]
  },
  {
   "cell_type": "code",
   "execution_count": 13,
   "metadata": {},
   "outputs": [
    {
     "name": "stdout",
     "output_type": "stream",
     "text": [
      "Average loss on epoch 0 is: 1.0143083479138588 \n",
      "\n",
      "Average loss on epoch 5 is: 0.6990183486487608 \n",
      "\n",
      "Average loss on epoch 10 is: 0.4896589270595869 \n",
      "\n",
      "Average loss on epoch 15 is: 0.3417661184405017 \n",
      "\n",
      "Average loss on epoch 20 is: 0.23362287739681514 \n",
      "\n",
      "Average loss on epoch 25 is: 0.16101797565428413 \n",
      "\n",
      "Average loss on epoch 30 is: 0.11133690650089802 \n",
      "\n",
      "Average loss on epoch 35 is: 0.0787804617056662 \n",
      "\n",
      "Average loss on epoch 40 is: 0.05689905376317069 \n",
      "\n",
      "Average loss on epoch 45 is: 0.04218588300921164 \n",
      "\n",
      "Average loss on epoch 50 is: 0.03179432280430951 \n",
      "\n",
      "Average loss on epoch 55 is: 0.02421319713429339 \n",
      "\n",
      "Average loss on epoch 60 is: 0.018807130903570442 \n",
      "\n",
      "Average loss on epoch 65 is: 0.014886093881605856 \n",
      "\n",
      "Average loss on epoch 70 is: 0.011995750842840783 \n",
      "\n",
      "Average loss on epoch 75 is: 0.009809568530490509 \n",
      "\n",
      "Average loss on epoch 80 is: 0.008114012190445297 \n",
      "\n",
      "Average loss on epoch 85 is: 0.006835049932592392 \n",
      "\n",
      "Average loss on epoch 90 is: 0.0058194744844568625 \n",
      "\n",
      "Average loss on epoch 95 is: 0.005003916096694398 \n",
      "\n"
     ]
    }
   ],
   "source": [
    "w_1, w_2, loss_by_epoch = train_model(train_df, 100, 0.01)\n",
    "accuracy = test_model(test_df, w_1, w_2)"
   ]
  },
  {
   "cell_type": "markdown",
   "metadata": {},
   "source": [
    "Printing Accuracy"
   ]
  },
  {
   "cell_type": "code",
   "execution_count": 14,
   "metadata": {},
   "outputs": [
    {
     "name": "stdout",
     "output_type": "stream",
     "text": [
      "Accuracy: 38.06%\n"
     ]
    }
   ],
   "source": [
    "print(f'Accuracy: {round(accuracy * 100, 2)}%')"
   ]
  },
  {
   "cell_type": "markdown",
   "metadata": {},
   "source": [
    "#### Plotting Loss Graphs\n",
    "\n",
    "just for funzies"
   ]
  },
  {
   "cell_type": "code",
   "execution_count": 15,
   "metadata": {},
   "outputs": [
    {
     "data": {
      "image/png": "[encoded data removed]",
      "text/plain": [
       "<Figure size 640x480 with 1 Axes>"
      ]
     },
     "metadata": {},
     "output_type": "display_data"
    }
   ],
   "source": [
    "import matplotlib.pyplot as plt\n",
    "\n",
    "plt.plot(range(len(loss_by_epoch)), loss_by_epoch, color='purple', marker='.', linestyle='-', label='Average Loss')\n",
    "plt.xlabel('Epoch')\n",
    "plt.ylabel('Average Loss')\n",
    "plt.title('Average Loss vs. Epoch')\n",
    "\n",
    "plt.show()"
   ]
  },
  {
   "cell_type": "markdown",
   "metadata": {},
   "source": [
    "We can see from above that the Average loss follows a logarithmic curve as it decreases throughout each epoch.\n",
    "\n",
    "In the graph below I changed the scale of the y-axis to logarithmic to show this."
   ]
  },
  {
   "cell_type": "code",
   "execution_count": 16,
   "metadata": {},
   "outputs": [
    {
     "data": {
      "image/png": "[encoded data removed]",
      "text/plain": [
       "<Figure size 640x480 with 1 Axes>"
      ]
     },
     "metadata": {},
     "output_type": "display_data"
    }
   ],
   "source": [
    "plt.plot(range(len(loss_by_epoch)), loss_by_epoch, color='purple', marker='.', linestyle='-', label='Average Loss')\n",
    "\n",
    "plt.yscale('log')\n",
    "\n",
    "plt.xlabel('Epoch')\n",
    "plt.ylabel('Average Loss (log scale)')\n",
    "plt.title('Average Loss vs. Epoch')\n",
    "\n",
    "plt.show()"
   ]
  }
 ],
 "metadata": {
  "kernelspec": {
   "display_name": "Python 3",
   "language": "python",
   "name": "python3"
  },
  "language_info": {
   "codemirror_mode": {
    "name": "ipython",
    "version": 3
   },
   "file_extension": ".py",
   "mimetype": "text/x-python",
   "name": "python",
   "nbconvert_exporter": "python",
   "pygments_lexer": "ipython3",
   "version": "3.10.12"
  }
 },
 "nbformat": 4,
 "nbformat_minor": 2
}
