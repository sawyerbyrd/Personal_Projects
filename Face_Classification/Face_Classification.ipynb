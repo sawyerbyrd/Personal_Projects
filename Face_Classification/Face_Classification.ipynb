{
 "cells": [
  {
   "cell_type": "markdown",
   "metadata": {},
   "source": [
    "Sawyer Byrd\n",
    "\n",
    "Homework 3"
   ]
  },
  {
   "cell_type": "code",
   "execution_count": 1,
   "metadata": {},
   "outputs": [],
   "source": [
    "import os\n",
    "import pandas as pd\n",
    "import numpy as np\n",
    "from PIL import Image"
   ]
  },
  {
   "cell_type": "code",
   "execution_count": 2,
   "metadata": {},
   "outputs": [],
   "source": [
    "file_path = '/home/sawbyrd/CMSC422/HW3/ATT'"
   ]
  },
  {
   "cell_type": "markdown",
   "metadata": {},
   "source": [
    "Below is a function that organizes the images used in this project into a data array.\n",
    "\n",
    "It returns a data array where each row is a 1-Dim representation of an image\n",
    "\n",
    "This returns an array with original size representation, as well as one with the images resized for Task 3\n",
    "\n",
    "And a labels array that contains the label for each image."
   ]
  },
  {
   "cell_type": "code",
   "execution_count": 3,
   "metadata": {},
   "outputs": [],
   "source": [
    "def organize_data(path):\n",
    "    data_arr = []\n",
    "    resize_data_arr = []\n",
    "    labels_arr = []\n",
    "    for file_name in os.listdir(path):  # Looping through files in the directory\n",
    "        if file_name.endswith('.png'):\n",
    "            id = int(file_name.split('_')[0])   # getting \"Class Label\"\n",
    "            \n",
    "            # Converting image into 1-Dim np array\n",
    "            image_path = os.path.join(path, file_name)\n",
    "            image = Image.open(image_path)\n",
    "            resized = image.resize((56, 46))    # Also creating a resized image for Task 3\n",
    "            image = np.array(image).flatten()\n",
    "            resized = np.array(resized).flatten()\n",
    "            \n",
    "            data_arr.append(image)\n",
    "            resize_data_arr.append(resized)\n",
    "            labels_arr.append(id)\n",
    "    \n",
    "    # Converting data to pandas dataframe\n",
    "    data = pd.DataFrame(data_arr)\n",
    "    labels = pd.DataFrame(labels_arr, columns=['Label'])\n",
    "    data = pd.concat([data, labels], axis=1)\n",
    "    \n",
    "    # Converting resized data to pandas dataframe\n",
    "    resize = pd.DataFrame(resize_data_arr)\n",
    "    resize = pd.concat([resize, labels], axis=1)\n",
    "    \n",
    "    return data, resize"
   ]
  },
  {
   "cell_type": "code",
   "execution_count": 4,
   "metadata": {},
   "outputs": [
    {
     "name": "stdout",
     "output_type": "stream",
     "text": [
      "Original Data\n",
      "     0    1    2    3    4    5    6    7    8    9  ...  10295  10296  10297  \\\n",
      "0  110  111  110  111  108  110  108  112  109  110  ...    156    128     72   \n",
      "1  124  126  124  125  125  127  121  127  124  124  ...     68     69     78   \n",
      "2  103  104  105  105  104  106  101  105  101  104  ...     78     75     75   \n",
      "3   44   43   32   32   30   30   38   40   48   66  ...     42     42     40   \n",
      "4   86   90   87   90   91   88   88   90   87   91  ...    132    127    131   \n",
      "\n",
      "   10298  10299  10300  10301  10302  10303  Label  \n",
      "0     61     65     61     63     59     60     30  \n",
      "1     74     76     78     78     78     77     23  \n",
      "2     75     76     73     76     76     75     29  \n",
      "3     33     29     37     43     43     37      1  \n",
      "4    139    139    137    127    124    126     39  \n",
      "\n",
      "[5 rows x 10305 columns]\n",
      "Resized Data: \n",
      "     0    1    2    3    4    5    6    7    8    9  ...  2567  2568  2569  \\\n",
      "0  110  110  109  110  109  109  107  103   94   92  ...   170   168   165   \n",
      "1  124  124  124  125  125  125  125  125  110  102  ...    61    62    63   \n",
      "2  104  105  104  104  103  102   97   93   83   76  ...    75    76    76   \n",
      "3   43   34   32   33   38   53   49   39   36   32  ...    19    37    43   \n",
      "4   87   88   90   88   90   89   90   90   91   92  ...   124   142   135   \n",
      "\n",
      "   2570  2571  2572  2573  2574  2575  Label  \n",
      "0   120    83    62    63    62    61     30  \n",
      "1    65    73    77    77    78    79     23  \n",
      "2    76    76    76    75    76    76     29  \n",
      "3    39    39    34    38    42    36      1  \n",
      "4   128   127   131   131   127   126     39  \n",
      "\n",
      "[5 rows x 2577 columns]\n"
     ]
    }
   ],
   "source": [
    "data, resized = organize_data(file_path)\n",
    "print('Original Data')\n",
    "print(data.head())\n",
    "print('Resized Data: ')\n",
    "print(resized.head())"
   ]
  },
  {
   "cell_type": "markdown",
   "metadata": {},
   "source": [
    "Transfering data into a pandas dataframe"
   ]
  },
  {
   "cell_type": "markdown",
   "metadata": {},
   "source": [
    "Shuffling the data before splitting into groups"
   ]
  },
  {
   "cell_type": "code",
   "execution_count": 5,
   "metadata": {},
   "outputs": [
    {
     "name": "stdout",
     "output_type": "stream",
     "text": [
      "Original: \n",
      "     0    1    2    3    4    5    6    7    8    9  ...  10295  10296  10297  \\\n",
      "0  108  107  106  110  111  111  111  106  109  109  ...     48     50     51   \n",
      "1   50   49   50   48   52   49   49   52   49   52  ...    153     99     50   \n",
      "2   89   87   92   88   91   84   91   90   85   89  ...     91     96     84   \n",
      "3  116  123  120  123  121  125  120  121  123  125  ...     57    134    164   \n",
      "4  104  101  104  104  105  103  104  104  103  106  ...     76     73     77   \n",
      "\n",
      "   10298  10299  10300  10301  10302  10303  Label  \n",
      "0     49     51     50     43     43     40     26  \n",
      "1     90    133    163    159    111    117     14  \n",
      "2     55     19     63     93    112    109     39  \n",
      "3    147    133    128    108     96     98     37  \n",
      "4     74     77     73     78     73     79     29  \n",
      "\n",
      "[5 rows x 10305 columns]\n",
      "Resized: \n",
      "<bound method NDFrame.head of        0    1    2    3    4    5    6    7    8    9  ...  2567  2568  2569  \\\n",
      "0    109  108  110  111  109  110  111  110  112  114  ...    42    54    62   \n",
      "1     50   49   50   49   50   51   49   36   21   65  ...    75    92   131   \n",
      "2     88   90   89   87   89   87   89   90   92   82  ...    93    90    85   \n",
      "3    120  122  123  122  123  123  123  122  122  119  ...    45    43    42   \n",
      "4    104  104  105  104  104  106  104  103   97   94  ...    76    75    75   \n",
      "..   ...  ...  ...  ...  ...  ...  ...  ...  ...  ...  ...   ...   ...   ...   \n",
      "395   94   92   94  100   93   95   94   88   95  113  ...   153   172   185   \n",
      "396  124  124  123  124  125  124  123  124  124  119  ...    62    62    65   \n",
      "397   26   27   26   26   27   27   27   26   27   27  ...   127    90   118   \n",
      "398   96   96   96   96   94   95   95   95   94   94  ...   138   144   142   \n",
      "399   45   47   43   44   44   44   44   60   68   51  ...    81    10    45   \n",
      "\n",
      "     2570  2571  2572  2573  2574  2575  Label  \n",
      "0      56    49    46    47    41    42     26  \n",
      "1     146    75    62   122   130   113     14  \n",
      "2      87    92    60    31    81   112     39  \n",
      "3      52   114   128   108   102    96     37  \n",
      "4      76    74    77    75    75    77     29  \n",
      "..    ...   ...   ...   ...   ...   ...    ...  \n",
      "395   185   173   118    62    54    55     35  \n",
      "396    72    75    76    78    79    80     23  \n",
      "397   133   153   167   178   180   179     34  \n",
      "398   139   135   129   142   128   139     21  \n",
      "399   124   140   143   117    43    61     36  \n",
      "\n",
      "[400 rows x 2577 columns]>\n"
     ]
    }
   ],
   "source": [
    "data = data.sample(frac=1, random_state=42).reset_index(drop=True)\n",
    "resized = resized.sample(frac=1, random_state=42).reset_index(drop=True)\n",
    "print('Original: ')\n",
    "print(data.head())\n",
    "print('Resized: ')\n",
    "print(resized.head)"
   ]
  },
  {
   "cell_type": "markdown",
   "metadata": {},
   "source": [
    "Task 1 Code"
   ]
  },
  {
   "cell_type": "markdown",
   "metadata": {},
   "source": [
    "Below are 2 functions for classifying using 1NN.\n",
    "\n",
    "L2_distance calculates the L2 distance (Euclidean distance) between 2 features.\n",
    "\n",
    "predics_1NN uses 1NN to predict the label for a single test sample."
   ]
  },
  {
   "cell_type": "code",
   "execution_count": 6,
   "metadata": {},
   "outputs": [],
   "source": [
    "# L2 (Euclidean) Distance\n",
    "def L2_distance(a, b):\n",
    "    return np.sqrt(np.sum((a - b) ** 2))\n",
    "\n",
    "# Predicts a label for a single test sample\n",
    "def predict_1NN(train_feat, train_labels, test_feat):\n",
    "    # Initializing vars for closest neighbor\n",
    "    best_guess = None\n",
    "    best_dist = float('inf')\n",
    "    \n",
    "    # Looping through train labels and finding closest neighbor\n",
    "    for i, label in enumerate(train_feat):\n",
    "        dist = L2_distance(label, test_feat)\n",
    "        if dist < best_dist:\n",
    "            best_dist = dist\n",
    "            best_guess = train_labels[i]\n",
    "            \n",
    "    return best_guess\n",
    "    "
   ]
  },
  {
   "cell_type": "markdown",
   "metadata": {},
   "source": [
    "Task 2 Code"
   ]
  },
  {
   "cell_type": "markdown",
   "metadata": {},
   "source": [
    "Below is the function that implements PCA using SVD"
   ]
  },
  {
   "cell_type": "code",
   "execution_count": 7,
   "metadata": {},
   "outputs": [],
   "source": [
    "def pca_svd(X, n_comp):\n",
    "    U, S, Vt = np.linalg.svd(X, full_matrices=False) # Computing SVD\n",
    "    comps = Vt[:n_comp]     # Getting the n left singular values\n",
    "    pca = np.dot(X, comps.T)     # Transforming the data using PCA\n",
    "    \n",
    "    return pca, comps"
   ]
  },
  {
   "cell_type": "markdown",
   "metadata": {},
   "source": [
    "Below is a function that combines the helper functions to implement 1NN with K-Fold cross validation\n",
    "\n",
    "The \"PCA_option variable is a boolean. When True, the algorithm will run with PCA on each fold. When False, it will run without PCA"
   ]
  },
  {
   "cell_type": "code",
   "execution_count": 8,
   "metadata": {},
   "outputs": [],
   "source": [
    "def full_1NN_kfold_alg(data, n_folds, PCA_option):\n",
    "    folds = np.array_split(data, n_folds) # Splitting data into n_splits groups\n",
    "    \n",
    "    accuracy_arr = []\n",
    "    # Looping through each fold\n",
    "    for i, fold in enumerate(folds):\n",
    "        # Collecting train and test arrays\n",
    "        test = fold\n",
    "        train = pd.concat([folds[j] for j in range(n_folds) if j != i], axis=0)\n",
    "        \n",
    "        # Seperating test array into features and labels\n",
    "        test_labels = test['Label'].values\n",
    "        test_feat = test.iloc[:, :-1].values\n",
    "        # Seperating features from labels\n",
    "        train_labels = train['Label'].values\n",
    "        train_feat = train.iloc[:, :-1].values\n",
    "        \n",
    "        # Using PCA to tranform the data (If option selected)\n",
    "        if PCA_option:\n",
    "            train_feat, comps = pca_svd(train_feat, 100)    # Project the train data to first 100 components\n",
    "            test_feat = test_feat @ comps.T    # Apply the same transformation to the test data\n",
    "\n",
    "        \n",
    "        predictions = []\n",
    "        # Predicting label of each feature using predict1NN\n",
    "        for feat in test_feat:\n",
    "            prediction = predict_1NN(train_feat, train_labels, feat)\n",
    "            predictions.append(prediction)\n",
    "        \n",
    "        # Computing the accuracy of  each fold\n",
    "        predictions = np.array(predictions)\n",
    "        accuracy = np.mean(predictions == test_labels)\n",
    "        accuracy_arr.append(accuracy)\n",
    "        print('Accuracy for Fold ', i, ': ', accuracy * 100, '%')\n",
    "    \n",
    "    # Computing average accuracy of all folds\n",
    "    accuracy_arr = np.array(accuracy_arr)\n",
    "    print('--------------------')\n",
    "    print('Average Accuracy: \\n', accuracy_arr.mean() * 100, '%')"
   ]
  },
  {
   "cell_type": "markdown",
   "metadata": {},
   "source": [
    "Task 1 Implementation and Results"
   ]
  },
  {
   "cell_type": "code",
   "execution_count": 9,
   "metadata": {},
   "outputs": [
    {
     "name": "stdout",
     "output_type": "stream",
     "text": [
      "-----------------------------------------------------\n",
      "| Task 1: 1NN With 5-Fold Cross Validation (No PCA) |\n",
      "-----------------------------------------------------\n"
     ]
    },
    {
     "name": "stderr",
     "output_type": "stream",
     "text": [
      "/home/sawbyrd/.local/lib/python3.10/site-packages/numpy/core/fromnumeric.py:59: FutureWarning: 'DataFrame.swapaxes' is deprecated and will be removed in a future version. Please use 'DataFrame.transpose' instead.\n",
      "  return bound(*args, **kwds)\n"
     ]
    },
    {
     "name": "stdout",
     "output_type": "stream",
     "text": [
      "Accuracy for Fold  0 :  100.0 %\n",
      "Accuracy for Fold  1 :  98.75 %\n",
      "Accuracy for Fold  2 :  97.5 %\n",
      "Accuracy for Fold  3 :  97.5 %\n",
      "Accuracy for Fold  4 :  98.75 %\n",
      "--------------------\n",
      "Average Accuracy: \n",
      " 98.5 %\n"
     ]
    }
   ],
   "source": [
    "print('-----------------------------------------------------')\n",
    "print('| Task 1: 1NN With 5-Fold Cross Validation (No PCA) |')\n",
    "print('-----------------------------------------------------')\n",
    "full_1NN_kfold_alg(data, 5, False)"
   ]
  },
  {
   "cell_type": "markdown",
   "metadata": {},
   "source": [
    "Task 2 Implementation and results"
   ]
  },
  {
   "cell_type": "code",
   "execution_count": 10,
   "metadata": {},
   "outputs": [
    {
     "name": "stdout",
     "output_type": "stream",
     "text": [
      "-------------------------------------------------------\n",
      "| Task 2: 1NN With 5-Fold Cross Validation (With PCA) |\n",
      "-------------------------------------------------------\n",
      "Accuracy for Fold  0 :  97.5 %\n",
      "Accuracy for Fold  1 :  96.25 %\n",
      "Accuracy for Fold  2 :  96.25 %\n",
      "Accuracy for Fold  3 :  95.0 %\n",
      "Accuracy for Fold  4 :  98.75 %\n",
      "--------------------\n",
      "Average Accuracy: \n",
      " 96.74999999999999 %\n"
     ]
    }
   ],
   "source": [
    "print('-------------------------------------------------------')\n",
    "print('| Task 2: 1NN With 5-Fold Cross Validation (With PCA) |')\n",
    "print('-------------------------------------------------------')\n",
    "full_1NN_kfold_alg(data, 5, True)"
   ]
  },
  {
   "cell_type": "markdown",
   "metadata": {},
   "source": [
    "Task 3 Implementation and results"
   ]
  },
  {
   "cell_type": "code",
   "execution_count": 12,
   "metadata": {},
   "outputs": [
    {
     "name": "stdout",
     "output_type": "stream",
     "text": [
      "--------------------------------------------------------------------------\n",
      "| Task 2: 1NN With 5-Fold Cross Validation (With PCA and Resized Images) |\n",
      "--------------------------------------------------------------------------\n"
     ]
    },
    {
     "name": "stderr",
     "output_type": "stream",
     "text": [
      "/home/sawbyrd/.local/lib/python3.10/site-packages/numpy/core/fromnumeric.py:59: FutureWarning: 'DataFrame.swapaxes' is deprecated and will be removed in a future version. Please use 'DataFrame.transpose' instead.\n",
      "  return bound(*args, **kwds)\n"
     ]
    },
    {
     "name": "stdout",
     "output_type": "stream",
     "text": [
      "Accuracy for Fold  0 :  97.5 %\n",
      "Accuracy for Fold  1 :  96.25 %\n",
      "Accuracy for Fold  2 :  96.25 %\n",
      "Accuracy for Fold  3 :  95.0 %\n",
      "Accuracy for Fold  4 :  98.75 %\n",
      "--------------------\n",
      "Average Accuracy: \n",
      " 96.74999999999999 %\n"
     ]
    }
   ],
   "source": [
    "print('--------------------------------------------------------------------------')\n",
    "print('| Task 2: 1NN With 5-Fold Cross Validation (With PCA and Resized Images) |')\n",
    "print('--------------------------------------------------------------------------')\n",
    "full_1NN_kfold_alg(resized, 5, True)"
   ]
  }
 ],
 "metadata": {
  "kernelspec": {
   "display_name": "Python 3",
   "language": "python",
   "name": "python3"
  },
  "language_info": {
   "codemirror_mode": {
    "name": "ipython",
    "version": 3
   },
   "file_extension": ".py",
   "mimetype": "text/x-python",
   "name": "python",
   "nbconvert_exporter": "python",
   "pygments_lexer": "ipython3",
   "version": "3.10.12"
  }
 },
 "nbformat": 4,
 "nbformat_minor": 2
}
